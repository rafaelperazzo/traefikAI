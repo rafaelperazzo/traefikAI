{
 "cells": [
  {
   "cell_type": "code",
   "id": "initial_id",
   "metadata": {
    "collapsed": true,
    "ExecuteTime": {
     "end_time": "2024-06-05T12:22:38.149807Z",
     "start_time": "2024-06-05T12:22:38.145197Z"
    }
   },
   "source": [
    "import numpy as np\n",
    "import pandas as pd\n",
    "pd.set_option('float_format', '{:f}'.format)\n",
    "import datetime"
   ],
   "outputs": [],
   "execution_count": 8
  },
  {
   "metadata": {},
   "cell_type": "markdown",
   "source": "## Dataset",
   "id": "7fa50264448c3d9c"
  },
  {
   "metadata": {},
   "cell_type": "markdown",
   "source": [
    "Log access.log do Traefik, obtido de servidor web, da Universidade Federal do Cariri (UFCA).\n",
    "\n",
    "Neste servidor são hospedados diversos serviços não oficiais da UFCA, sistema de gerenciamento de projetos de IC/ICT, sistema gerenciados de evento científico, entre outros.\n",
    "\n",
    "O arquivo contém mais de 8.000.000 de linhas e 7 colunas. "
   ],
   "id": "1b9e1e0b03f91fde"
  },
  {
   "cell_type": "markdown",
   "id": "3115cbdc8ad9098a",
   "metadata": {},
   "source": [
    "# Load the data"
   ]
  },
  {
   "cell_type": "code",
   "id": "c0d295ba0c74fe75",
   "metadata": {
    "ExecuteTime": {
     "end_time": "2024-06-05T12:22:48.505282Z",
     "start_time": "2024-06-05T12:22:40.157219Z"
    }
   },
   "source": "df = pd.read_csv('traefik.csv',sep=',',encoding='utf-8')",
   "outputs": [],
   "execution_count": 9
  },
  {
   "cell_type": "code",
   "id": "bed273e8a8f283f8",
   "metadata": {
    "ExecuteTime": {
     "end_time": "2024-06-05T12:22:53.047329Z",
     "start_time": "2024-06-05T12:22:53.017175Z"
    }
   },
   "source": [
    "df"
   ],
   "outputs": [
    {
     "data": {
      "text/plain": [
       "                       data1       data2             ip  status metodo  \\\n",
       "0        2024-03-20 08:03:25  2024-03-20      10.0.49.0     200    GET   \n",
       "1        2024-03-20 08:03:29  2024-03-20      10.0.49.0     200    GET   \n",
       "2        2024-03-20 08:03:40  2024-03-20      10.0.49.0     200    GET   \n",
       "3        2024-03-20 08:03:40  2024-03-20      10.0.49.0     200    GET   \n",
       "4        2024-03-20 08:03:40  2024-03-20      10.0.49.0     200    GET   \n",
       "...                      ...         ...            ...     ...    ...   \n",
       "8611828  2023-12-31 08:12:36  2023-12-31  181.221.251.0     200   POST   \n",
       "8611829  2023-12-31 08:12:27  2023-12-31  216.144.248.0     200   HEAD   \n",
       "8611830  2023-12-31 08:12:27  2023-12-31  216.144.248.0     200   HEAD   \n",
       "8611831  2023-12-31 08:12:27  2023-12-31  216.144.248.0     200   HEAD   \n",
       "8611832  2023-12-31 08:12:00  2023-12-31    63.143.42.0     200   HEAD   \n",
       "\n",
       "                                                   recurso  tamanho  \n",
       "0                                       /pesquisa/usuario      1990  \n",
       "1                                            /favicon.ico     15406  \n",
       "2                                  /pesquisa/meusProjetos     27668  \n",
       "3                          /pesquisa/static/avaliacao.png     25508  \n",
       "4                                /pesquisa/static/pdf.png     21508  \n",
       "...                                                    ...      ...  \n",
       "8611828  /computacao/lib/ajax/service-nologin.php?sessk...     8537  \n",
       "8611829                                           /cppgi/         0  \n",
       "8611830                                           /cppgi/         0  \n",
       "8611831                                           /cppgi/         0  \n",
       "8611832                                            /main/         0  \n",
       "\n",
       "[8611833 rows x 7 columns]"
      ],
      "text/html": [
       "<div>\n",
       "<style scoped>\n",
       "    .dataframe tbody tr th:only-of-type {\n",
       "        vertical-align: middle;\n",
       "    }\n",
       "\n",
       "    .dataframe tbody tr th {\n",
       "        vertical-align: top;\n",
       "    }\n",
       "\n",
       "    .dataframe thead th {\n",
       "        text-align: right;\n",
       "    }\n",
       "</style>\n",
       "<table border=\"1\" class=\"dataframe\">\n",
       "  <thead>\n",
       "    <tr style=\"text-align: right;\">\n",
       "      <th></th>\n",
       "      <th>data1</th>\n",
       "      <th>data2</th>\n",
       "      <th>ip</th>\n",
       "      <th>status</th>\n",
       "      <th>metodo</th>\n",
       "      <th>recurso</th>\n",
       "      <th>tamanho</th>\n",
       "    </tr>\n",
       "  </thead>\n",
       "  <tbody>\n",
       "    <tr>\n",
       "      <th>0</th>\n",
       "      <td>2024-03-20 08:03:25</td>\n",
       "      <td>2024-03-20</td>\n",
       "      <td>10.0.49.0</td>\n",
       "      <td>200</td>\n",
       "      <td>GET</td>\n",
       "      <td>/pesquisa/usuario</td>\n",
       "      <td>1990</td>\n",
       "    </tr>\n",
       "    <tr>\n",
       "      <th>1</th>\n",
       "      <td>2024-03-20 08:03:29</td>\n",
       "      <td>2024-03-20</td>\n",
       "      <td>10.0.49.0</td>\n",
       "      <td>200</td>\n",
       "      <td>GET</td>\n",
       "      <td>/favicon.ico</td>\n",
       "      <td>15406</td>\n",
       "    </tr>\n",
       "    <tr>\n",
       "      <th>2</th>\n",
       "      <td>2024-03-20 08:03:40</td>\n",
       "      <td>2024-03-20</td>\n",
       "      <td>10.0.49.0</td>\n",
       "      <td>200</td>\n",
       "      <td>GET</td>\n",
       "      <td>/pesquisa/meusProjetos</td>\n",
       "      <td>27668</td>\n",
       "    </tr>\n",
       "    <tr>\n",
       "      <th>3</th>\n",
       "      <td>2024-03-20 08:03:40</td>\n",
       "      <td>2024-03-20</td>\n",
       "      <td>10.0.49.0</td>\n",
       "      <td>200</td>\n",
       "      <td>GET</td>\n",
       "      <td>/pesquisa/static/avaliacao.png</td>\n",
       "      <td>25508</td>\n",
       "    </tr>\n",
       "    <tr>\n",
       "      <th>4</th>\n",
       "      <td>2024-03-20 08:03:40</td>\n",
       "      <td>2024-03-20</td>\n",
       "      <td>10.0.49.0</td>\n",
       "      <td>200</td>\n",
       "      <td>GET</td>\n",
       "      <td>/pesquisa/static/pdf.png</td>\n",
       "      <td>21508</td>\n",
       "    </tr>\n",
       "    <tr>\n",
       "      <th>...</th>\n",
       "      <td>...</td>\n",
       "      <td>...</td>\n",
       "      <td>...</td>\n",
       "      <td>...</td>\n",
       "      <td>...</td>\n",
       "      <td>...</td>\n",
       "      <td>...</td>\n",
       "    </tr>\n",
       "    <tr>\n",
       "      <th>8611828</th>\n",
       "      <td>2023-12-31 08:12:36</td>\n",
       "      <td>2023-12-31</td>\n",
       "      <td>181.221.251.0</td>\n",
       "      <td>200</td>\n",
       "      <td>POST</td>\n",
       "      <td>/computacao/lib/ajax/service-nologin.php?sessk...</td>\n",
       "      <td>8537</td>\n",
       "    </tr>\n",
       "    <tr>\n",
       "      <th>8611829</th>\n",
       "      <td>2023-12-31 08:12:27</td>\n",
       "      <td>2023-12-31</td>\n",
       "      <td>216.144.248.0</td>\n",
       "      <td>200</td>\n",
       "      <td>HEAD</td>\n",
       "      <td>/cppgi/</td>\n",
       "      <td>0</td>\n",
       "    </tr>\n",
       "    <tr>\n",
       "      <th>8611830</th>\n",
       "      <td>2023-12-31 08:12:27</td>\n",
       "      <td>2023-12-31</td>\n",
       "      <td>216.144.248.0</td>\n",
       "      <td>200</td>\n",
       "      <td>HEAD</td>\n",
       "      <td>/cppgi/</td>\n",
       "      <td>0</td>\n",
       "    </tr>\n",
       "    <tr>\n",
       "      <th>8611831</th>\n",
       "      <td>2023-12-31 08:12:27</td>\n",
       "      <td>2023-12-31</td>\n",
       "      <td>216.144.248.0</td>\n",
       "      <td>200</td>\n",
       "      <td>HEAD</td>\n",
       "      <td>/cppgi/</td>\n",
       "      <td>0</td>\n",
       "    </tr>\n",
       "    <tr>\n",
       "      <th>8611832</th>\n",
       "      <td>2023-12-31 08:12:00</td>\n",
       "      <td>2023-12-31</td>\n",
       "      <td>63.143.42.0</td>\n",
       "      <td>200</td>\n",
       "      <td>HEAD</td>\n",
       "      <td>/main/</td>\n",
       "      <td>0</td>\n",
       "    </tr>\n",
       "  </tbody>\n",
       "</table>\n",
       "<p>8611833 rows × 7 columns</p>\n",
       "</div>"
      ]
     },
     "execution_count": 10,
     "metadata": {},
     "output_type": "execute_result"
    }
   ],
   "execution_count": 10
  },
  {
   "cell_type": "code",
   "id": "8de1d156a4eef7be",
   "metadata": {
    "ExecuteTime": {
     "end_time": "2024-06-05T12:23:44.586134Z",
     "start_time": "2024-06-05T12:23:38.268464Z"
    }
   },
   "source": [
    "last_date = df.sort_values('data1',ascending=False).head(1).data1"
   ],
   "outputs": [],
   "execution_count": 11
  },
  {
   "cell_type": "markdown",
   "id": "a9682908339b357d",
   "metadata": {},
   "source": [
    "## Dataset dates"
   ]
  },
  {
   "cell_type": "code",
   "id": "414c7f763d239f0c",
   "metadata": {
    "ExecuteTime": {
     "end_time": "2024-06-05T12:23:52.358548Z",
     "start_time": "2024-06-05T12:23:51.299237Z"
    }
   },
   "source": [
    "last_date = df.data1.max()\n",
    "first_date = df.data1.min()\n",
    "periodo = first_date + ' - ' + last_date\n",
    "last_date = datetime.datetime.strptime(last_date, '%Y-%m-%d  %H:%M:%S')\n",
    "first_date = datetime.datetime.strptime(first_date, '%Y-%m-%d  %H:%M:%S')\n",
    "periodo = first_date.strftime('%d/%m/%Y') + ' - ' + last_date.strftime('%d/%m/%Y')\n",
    "delta = (last_date - first_date).days\n",
    "print(periodo + ' (' + str(delta) + ' days)')"
   ],
   "outputs": [
    {
     "name": "stdout",
     "output_type": "stream",
     "text": [
      "06/01/2022 - 05/06/2024 (880 days)\n"
     ]
    }
   ],
   "execution_count": 12
  },
  {
   "cell_type": "markdown",
   "id": "c71980ac90bc8836",
   "metadata": {},
   "source": [
    "## Number of requests"
   ]
  },
  {
   "cell_type": "code",
   "id": "6fc92728dbee8c2",
   "metadata": {
    "ExecuteTime": {
     "end_time": "2024-06-05T12:23:54.781347Z",
     "start_time": "2024-06-05T12:23:54.621592Z"
    }
   },
   "source": [
    "df['status'].describe()['count'].astype(int)"
   ],
   "outputs": [
    {
     "data": {
      "text/plain": [
       "8611833"
      ]
     },
     "execution_count": 13,
     "metadata": {},
     "output_type": "execute_result"
    }
   ],
   "execution_count": 13
  },
  {
   "metadata": {},
   "cell_type": "markdown",
   "source": "## Number of requests per status",
   "id": "ef3d1a5a6e61b762"
  },
  {
   "metadata": {
    "ExecuteTime": {
     "end_time": "2024-06-05T12:30:12.379045Z",
     "start_time": "2024-06-05T12:30:12.317392Z"
    }
   },
   "cell_type": "code",
   "source": "df['status'].value_counts()",
   "id": "6d38209d0c256463",
   "outputs": [
    {
     "data": {
      "text/plain": [
       "status\n",
       "200    8534597\n",
       "404      76967\n",
       "429        269\n",
       "Name: count, dtype: int64"
      ]
     },
     "execution_count": 14,
     "metadata": {},
     "output_type": "execute_result"
    }
   ],
   "execution_count": 14
  },
  {
   "metadata": {
    "ExecuteTime": {
     "end_time": "2024-06-05T12:30:40.334998Z",
     "start_time": "2024-06-05T12:30:40.255657Z"
    }
   },
   "cell_type": "code",
   "source": "df['status'].value_counts(normalize=True)*100",
   "id": "577f63d3e3c2063",
   "outputs": [
    {
     "data": {
      "text/plain": [
       "status\n",
       "200   99.103141\n",
       "404    0.893735\n",
       "429    0.003124\n",
       "Name: proportion, dtype: float64"
      ]
     },
     "execution_count": 15,
     "metadata": {},
     "output_type": "execute_result"
    }
   ],
   "execution_count": 15
  },
  {
   "metadata": {},
   "cell_type": "markdown",
   "source": "## Number of requests per method",
   "id": "37dfd552dc4c2d6c"
  },
  {
   "metadata": {
    "ExecuteTime": {
     "end_time": "2024-06-05T12:51:26.095206Z",
     "start_time": "2024-06-05T12:51:25.376457Z"
    }
   },
   "cell_type": "code",
   "source": "df['metodo'].value_counts()",
   "id": "1f76e9d9cd8a6a28",
   "outputs": [
    {
     "data": {
      "text/plain": [
       "metodo\n",
       "GET        7622062\n",
       "POST        755811\n",
       "HEAD        230216\n",
       "CONNECT       3169\n",
       "PUT            366\n",
       "OPTIONS        165\n",
       "PATCH           44\n",
       "Name: count, dtype: int64"
      ]
     },
     "execution_count": 19,
     "metadata": {},
     "output_type": "execute_result"
    }
   ],
   "execution_count": 19
  },
  {
   "metadata": {},
   "cell_type": "markdown",
   "source": "## Requisições 404",
   "id": "35d716131954f9f9"
  },
  {
   "metadata": {
    "ExecuteTime": {
     "end_time": "2024-06-05T12:52:44.291583Z",
     "start_time": "2024-06-05T12:52:44.249628Z"
    }
   },
   "cell_type": "code",
   "source": [
    "df_404 = df[df['status'] == 404]\n",
    "df_404"
   ],
   "id": "c2f3019a04cc96a2",
   "outputs": [
    {
     "data": {
      "text/plain": [
       "                       data1       data2            ip  status metodo  \\\n",
       "330      2024-03-20 08:03:13  2024-03-20  128.199.31.0     404   POST   \n",
       "476      2024-03-20 09:03:32  2024-03-20  128.199.31.0     404    GET   \n",
       "488      2024-03-20 09:03:33  2024-03-20    64.225.2.0     404    GET   \n",
       "517      2024-03-20 09:03:57  2024-03-20  128.199.31.0     404    GET   \n",
       "572      2024-03-20 09:03:12  2024-03-20     10.0.34.0     404    GET   \n",
       "...                      ...         ...           ...     ...    ...   \n",
       "8611571  2023-12-31 05:12:52  2023-12-31  152.32.247.0     404    GET   \n",
       "8611572  2023-12-31 05:12:03  2023-12-31  152.32.247.0     404    GET   \n",
       "8611581  2023-12-31 06:12:13  2023-12-31  154.194.59.0     404    GET   \n",
       "8611591  2023-12-31 06:12:22  2023-12-31   45.79.181.0     404    GET   \n",
       "8611604  2023-12-31 07:12:28  2023-12-31   54.221.61.0     404    GET   \n",
       "\n",
       "                                                   recurso  tamanho  \n",
       "330                               /dashboard/uploadID.php        19  \n",
       "476      /compliancepolicies.inc.php?search=True&search...       19  \n",
       "488                                                     /        19  \n",
       "517      /compliancepolicyelements.inc.php?search=True&...       19  \n",
       "572                      /avaliacao/index.php/favicon.ico      5323  \n",
       "...                                                    ...      ...  \n",
       "8611571                                                 /        19  \n",
       "8611572                                                 /        19  \n",
       "8611581                            /auth/login?redirect=/        94  \n",
       "8611591                                                 /        19  \n",
       "8611604                                                 /        19  \n",
       "\n",
       "[76967 rows x 7 columns]"
      ],
      "text/html": [
       "<div>\n",
       "<style scoped>\n",
       "    .dataframe tbody tr th:only-of-type {\n",
       "        vertical-align: middle;\n",
       "    }\n",
       "\n",
       "    .dataframe tbody tr th {\n",
       "        vertical-align: top;\n",
       "    }\n",
       "\n",
       "    .dataframe thead th {\n",
       "        text-align: right;\n",
       "    }\n",
       "</style>\n",
       "<table border=\"1\" class=\"dataframe\">\n",
       "  <thead>\n",
       "    <tr style=\"text-align: right;\">\n",
       "      <th></th>\n",
       "      <th>data1</th>\n",
       "      <th>data2</th>\n",
       "      <th>ip</th>\n",
       "      <th>status</th>\n",
       "      <th>metodo</th>\n",
       "      <th>recurso</th>\n",
       "      <th>tamanho</th>\n",
       "    </tr>\n",
       "  </thead>\n",
       "  <tbody>\n",
       "    <tr>\n",
       "      <th>330</th>\n",
       "      <td>2024-03-20 08:03:13</td>\n",
       "      <td>2024-03-20</td>\n",
       "      <td>128.199.31.0</td>\n",
       "      <td>404</td>\n",
       "      <td>POST</td>\n",
       "      <td>/dashboard/uploadID.php</td>\n",
       "      <td>19</td>\n",
       "    </tr>\n",
       "    <tr>\n",
       "      <th>476</th>\n",
       "      <td>2024-03-20 09:03:32</td>\n",
       "      <td>2024-03-20</td>\n",
       "      <td>128.199.31.0</td>\n",
       "      <td>404</td>\n",
       "      <td>GET</td>\n",
       "      <td>/compliancepolicies.inc.php?search=True&amp;search...</td>\n",
       "      <td>19</td>\n",
       "    </tr>\n",
       "    <tr>\n",
       "      <th>488</th>\n",
       "      <td>2024-03-20 09:03:33</td>\n",
       "      <td>2024-03-20</td>\n",
       "      <td>64.225.2.0</td>\n",
       "      <td>404</td>\n",
       "      <td>GET</td>\n",
       "      <td>/</td>\n",
       "      <td>19</td>\n",
       "    </tr>\n",
       "    <tr>\n",
       "      <th>517</th>\n",
       "      <td>2024-03-20 09:03:57</td>\n",
       "      <td>2024-03-20</td>\n",
       "      <td>128.199.31.0</td>\n",
       "      <td>404</td>\n",
       "      <td>GET</td>\n",
       "      <td>/compliancepolicyelements.inc.php?search=True&amp;...</td>\n",
       "      <td>19</td>\n",
       "    </tr>\n",
       "    <tr>\n",
       "      <th>572</th>\n",
       "      <td>2024-03-20 09:03:12</td>\n",
       "      <td>2024-03-20</td>\n",
       "      <td>10.0.34.0</td>\n",
       "      <td>404</td>\n",
       "      <td>GET</td>\n",
       "      <td>/avaliacao/index.php/favicon.ico</td>\n",
       "      <td>5323</td>\n",
       "    </tr>\n",
       "    <tr>\n",
       "      <th>...</th>\n",
       "      <td>...</td>\n",
       "      <td>...</td>\n",
       "      <td>...</td>\n",
       "      <td>...</td>\n",
       "      <td>...</td>\n",
       "      <td>...</td>\n",
       "      <td>...</td>\n",
       "    </tr>\n",
       "    <tr>\n",
       "      <th>8611571</th>\n",
       "      <td>2023-12-31 05:12:52</td>\n",
       "      <td>2023-12-31</td>\n",
       "      <td>152.32.247.0</td>\n",
       "      <td>404</td>\n",
       "      <td>GET</td>\n",
       "      <td>/</td>\n",
       "      <td>19</td>\n",
       "    </tr>\n",
       "    <tr>\n",
       "      <th>8611572</th>\n",
       "      <td>2023-12-31 05:12:03</td>\n",
       "      <td>2023-12-31</td>\n",
       "      <td>152.32.247.0</td>\n",
       "      <td>404</td>\n",
       "      <td>GET</td>\n",
       "      <td>/</td>\n",
       "      <td>19</td>\n",
       "    </tr>\n",
       "    <tr>\n",
       "      <th>8611581</th>\n",
       "      <td>2023-12-31 06:12:13</td>\n",
       "      <td>2023-12-31</td>\n",
       "      <td>154.194.59.0</td>\n",
       "      <td>404</td>\n",
       "      <td>GET</td>\n",
       "      <td>/auth/login?redirect=/</td>\n",
       "      <td>94</td>\n",
       "    </tr>\n",
       "    <tr>\n",
       "      <th>8611591</th>\n",
       "      <td>2023-12-31 06:12:22</td>\n",
       "      <td>2023-12-31</td>\n",
       "      <td>45.79.181.0</td>\n",
       "      <td>404</td>\n",
       "      <td>GET</td>\n",
       "      <td>/</td>\n",
       "      <td>19</td>\n",
       "    </tr>\n",
       "    <tr>\n",
       "      <th>8611604</th>\n",
       "      <td>2023-12-31 07:12:28</td>\n",
       "      <td>2023-12-31</td>\n",
       "      <td>54.221.61.0</td>\n",
       "      <td>404</td>\n",
       "      <td>GET</td>\n",
       "      <td>/</td>\n",
       "      <td>19</td>\n",
       "    </tr>\n",
       "  </tbody>\n",
       "</table>\n",
       "<p>76967 rows × 7 columns</p>\n",
       "</div>"
      ]
     },
     "execution_count": 21,
     "metadata": {},
     "output_type": "execute_result"
    }
   ],
   "execution_count": 21
  },
  {
   "metadata": {},
   "cell_type": "markdown",
   "source": "",
   "id": "c026f32f603678f9"
  }
 ],
 "metadata": {
  "kernelspec": {
   "display_name": "Python 3",
   "language": "python",
   "name": "python3"
  },
  "language_info": {
   "codemirror_mode": {
    "name": "ipython",
    "version": 3
   },
   "file_extension": ".py",
   "mimetype": "text/x-python",
   "name": "python",
   "nbconvert_exporter": "python",
   "pygments_lexer": "ipython3",
   "version": "3.8.10"
  }
 },
 "nbformat": 4,
 "nbformat_minor": 5
}
