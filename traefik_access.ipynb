{
 "cells": [
  {
   "cell_type": "code",
   "id": "initial_id",
   "metadata": {
    "collapsed": true,
    "ExecuteTime": {
     "end_time": "2024-06-04T13:32:02.961113Z",
     "start_time": "2024-06-04T13:32:02.956180Z"
    }
   },
   "source": [
    "import numpy as np\n",
    "import pandas as pd\n",
    "pd.set_option('float_format', '{:f}'.format)\n",
    "import datetime"
   ],
   "outputs": [],
   "execution_count": 55
  },
  {
   "metadata": {},
   "cell_type": "markdown",
   "source": "# Load the data",
   "id": "3115cbdc8ad9098a"
  },
  {
   "metadata": {
    "ExecuteTime": {
     "end_time": "2024-06-04T13:20:44.335601Z",
     "start_time": "2024-06-04T13:20:35.769906Z"
    }
   },
   "cell_type": "code",
   "source": "df = pd.read_csv('traefik.csv',sep=',')",
   "id": "c0d295ba0c74fe75",
   "outputs": [],
   "execution_count": 34
  },
  {
   "metadata": {
    "ExecuteTime": {
     "end_time": "2024-06-04T13:20:44.350284Z",
     "start_time": "2024-06-04T13:20:44.337422Z"
    }
   },
   "cell_type": "code",
   "source": "df",
   "id": "bed273e8a8f283f8",
   "outputs": [
    {
     "data": {
      "text/plain": [
       "                       data1       data2             ip  status metodo  \\\n",
       "0        2024-03-20 08:03:25  2024-03-20      10.0.49.0     200    GET   \n",
       "1        2024-03-20 08:03:29  2024-03-20      10.0.49.0     200    GET   \n",
       "2        2024-03-20 08:03:40  2024-03-20      10.0.49.0     200    GET   \n",
       "3        2024-03-20 08:03:40  2024-03-20      10.0.49.0     200    GET   \n",
       "4        2024-03-20 08:03:40  2024-03-20      10.0.49.0     200    GET   \n",
       "...                      ...         ...            ...     ...    ...   \n",
       "8610015  2023-12-31 08:12:36  2023-12-31  181.221.251.0     200   POST   \n",
       "8610016  2023-12-31 08:12:27  2023-12-31  216.144.248.0     200   HEAD   \n",
       "8610017  2023-12-31 08:12:27  2023-12-31  216.144.248.0     200   HEAD   \n",
       "8610018  2023-12-31 08:12:27  2023-12-31  216.144.248.0     200   HEAD   \n",
       "8610019  2023-12-31 08:12:00  2023-12-31    63.143.42.0     200   HEAD   \n",
       "\n",
       "                                                   recurso  tamanho  \n",
       "0                                       /pesquisa/usuario      1990  \n",
       "1                                            /favicon.ico     15406  \n",
       "2                                  /pesquisa/meusProjetos     27668  \n",
       "3                          /pesquisa/static/avaliacao.png     25508  \n",
       "4                                /pesquisa/static/pdf.png     21508  \n",
       "...                                                    ...      ...  \n",
       "8610015  /computacao/lib/ajax/service-nologin.php?sessk...     8537  \n",
       "8610016                                           /cppgi/         0  \n",
       "8610017                                           /cppgi/         0  \n",
       "8610018                                           /cppgi/         0  \n",
       "8610019                                            /main/         0  \n",
       "\n",
       "[8610020 rows x 7 columns]"
      ],
      "text/html": [
       "<div>\n",
       "<style scoped>\n",
       "    .dataframe tbody tr th:only-of-type {\n",
       "        vertical-align: middle;\n",
       "    }\n",
       "\n",
       "    .dataframe tbody tr th {\n",
       "        vertical-align: top;\n",
       "    }\n",
       "\n",
       "    .dataframe thead th {\n",
       "        text-align: right;\n",
       "    }\n",
       "</style>\n",
       "<table border=\"1\" class=\"dataframe\">\n",
       "  <thead>\n",
       "    <tr style=\"text-align: right;\">\n",
       "      <th></th>\n",
       "      <th>data1</th>\n",
       "      <th>data2</th>\n",
       "      <th>ip</th>\n",
       "      <th>status</th>\n",
       "      <th>metodo</th>\n",
       "      <th>recurso</th>\n",
       "      <th>tamanho</th>\n",
       "    </tr>\n",
       "  </thead>\n",
       "  <tbody>\n",
       "    <tr>\n",
       "      <th>0</th>\n",
       "      <td>2024-03-20 08:03:25</td>\n",
       "      <td>2024-03-20</td>\n",
       "      <td>10.0.49.0</td>\n",
       "      <td>200</td>\n",
       "      <td>GET</td>\n",
       "      <td>/pesquisa/usuario</td>\n",
       "      <td>1990</td>\n",
       "    </tr>\n",
       "    <tr>\n",
       "      <th>1</th>\n",
       "      <td>2024-03-20 08:03:29</td>\n",
       "      <td>2024-03-20</td>\n",
       "      <td>10.0.49.0</td>\n",
       "      <td>200</td>\n",
       "      <td>GET</td>\n",
       "      <td>/favicon.ico</td>\n",
       "      <td>15406</td>\n",
       "    </tr>\n",
       "    <tr>\n",
       "      <th>2</th>\n",
       "      <td>2024-03-20 08:03:40</td>\n",
       "      <td>2024-03-20</td>\n",
       "      <td>10.0.49.0</td>\n",
       "      <td>200</td>\n",
       "      <td>GET</td>\n",
       "      <td>/pesquisa/meusProjetos</td>\n",
       "      <td>27668</td>\n",
       "    </tr>\n",
       "    <tr>\n",
       "      <th>3</th>\n",
       "      <td>2024-03-20 08:03:40</td>\n",
       "      <td>2024-03-20</td>\n",
       "      <td>10.0.49.0</td>\n",
       "      <td>200</td>\n",
       "      <td>GET</td>\n",
       "      <td>/pesquisa/static/avaliacao.png</td>\n",
       "      <td>25508</td>\n",
       "    </tr>\n",
       "    <tr>\n",
       "      <th>4</th>\n",
       "      <td>2024-03-20 08:03:40</td>\n",
       "      <td>2024-03-20</td>\n",
       "      <td>10.0.49.0</td>\n",
       "      <td>200</td>\n",
       "      <td>GET</td>\n",
       "      <td>/pesquisa/static/pdf.png</td>\n",
       "      <td>21508</td>\n",
       "    </tr>\n",
       "    <tr>\n",
       "      <th>...</th>\n",
       "      <td>...</td>\n",
       "      <td>...</td>\n",
       "      <td>...</td>\n",
       "      <td>...</td>\n",
       "      <td>...</td>\n",
       "      <td>...</td>\n",
       "      <td>...</td>\n",
       "    </tr>\n",
       "    <tr>\n",
       "      <th>8610015</th>\n",
       "      <td>2023-12-31 08:12:36</td>\n",
       "      <td>2023-12-31</td>\n",
       "      <td>181.221.251.0</td>\n",
       "      <td>200</td>\n",
       "      <td>POST</td>\n",
       "      <td>/computacao/lib/ajax/service-nologin.php?sessk...</td>\n",
       "      <td>8537</td>\n",
       "    </tr>\n",
       "    <tr>\n",
       "      <th>8610016</th>\n",
       "      <td>2023-12-31 08:12:27</td>\n",
       "      <td>2023-12-31</td>\n",
       "      <td>216.144.248.0</td>\n",
       "      <td>200</td>\n",
       "      <td>HEAD</td>\n",
       "      <td>/cppgi/</td>\n",
       "      <td>0</td>\n",
       "    </tr>\n",
       "    <tr>\n",
       "      <th>8610017</th>\n",
       "      <td>2023-12-31 08:12:27</td>\n",
       "      <td>2023-12-31</td>\n",
       "      <td>216.144.248.0</td>\n",
       "      <td>200</td>\n",
       "      <td>HEAD</td>\n",
       "      <td>/cppgi/</td>\n",
       "      <td>0</td>\n",
       "    </tr>\n",
       "    <tr>\n",
       "      <th>8610018</th>\n",
       "      <td>2023-12-31 08:12:27</td>\n",
       "      <td>2023-12-31</td>\n",
       "      <td>216.144.248.0</td>\n",
       "      <td>200</td>\n",
       "      <td>HEAD</td>\n",
       "      <td>/cppgi/</td>\n",
       "      <td>0</td>\n",
       "    </tr>\n",
       "    <tr>\n",
       "      <th>8610019</th>\n",
       "      <td>2023-12-31 08:12:00</td>\n",
       "      <td>2023-12-31</td>\n",
       "      <td>63.143.42.0</td>\n",
       "      <td>200</td>\n",
       "      <td>HEAD</td>\n",
       "      <td>/main/</td>\n",
       "      <td>0</td>\n",
       "    </tr>\n",
       "  </tbody>\n",
       "</table>\n",
       "<p>8610020 rows × 7 columns</p>\n",
       "</div>"
      ]
     },
     "execution_count": 35,
     "metadata": {},
     "output_type": "execute_result"
    }
   ],
   "execution_count": 35
  },
  {
   "metadata": {
    "ExecuteTime": {
     "end_time": "2024-06-04T13:20:50.668670Z",
     "start_time": "2024-06-04T13:20:44.352796Z"
    }
   },
   "cell_type": "code",
   "source": "last_date = df.sort_values('data1',ascending=False).head(1).data1",
   "id": "8de1d156a4eef7be",
   "outputs": [],
   "execution_count": 36
  },
  {
   "metadata": {},
   "cell_type": "markdown",
   "source": "## Dataset dates",
   "id": "a9682908339b357d"
  },
  {
   "metadata": {
    "ExecuteTime": {
     "end_time": "2024-06-04T13:37:47.917780Z",
     "start_time": "2024-06-04T13:37:46.909103Z"
    }
   },
   "cell_type": "code",
   "source": [
    "last_date = df.data1.max()\n",
    "first_date = df.data1.min()\n",
    "periodo = first_date + ' - ' + last_date\n",
    "last_date = datetime.datetime.strptime(last_date, '%Y-%m-%d  %H:%M:%S')\n",
    "first_date = datetime.datetime.strptime(first_date, '%Y-%m-%d  %H:%M:%S')\n",
    "periodo = first_date.strftime('%d/%m/%Y') + ' - ' + last_date.strftime('%d/%m/%Y')\n",
    "delta = (last_date - first_date).days\n",
    "print(periodo + ' (' + str(delta) + ' days)')"
   ],
   "id": "414c7f763d239f0c",
   "outputs": [
    {
     "name": "stdout",
     "output_type": "stream",
     "text": [
      "06/01/2022 - 04/06/2024 (880 days)\n"
     ]
    }
   ],
   "execution_count": 65
  },
  {
   "metadata": {},
   "cell_type": "markdown",
   "source": "## Number of requests",
   "id": "c71980ac90bc8836"
  },
  {
   "metadata": {
    "ExecuteTime": {
     "end_time": "2024-06-04T13:23:46.903863Z",
     "start_time": "2024-06-04T13:23:46.733174Z"
    }
   },
   "cell_type": "code",
   "source": "df['status'].describe()['count'].astype(int)",
   "id": "6fc92728dbee8c2",
   "outputs": [
    {
     "data": {
      "text/plain": [
       "8610020"
      ]
     },
     "execution_count": 48,
     "metadata": {},
     "output_type": "execute_result"
    }
   ],
   "execution_count": 48
  },
  {
   "metadata": {},
   "cell_type": "markdown",
   "source": "",
   "id": "b9771e329b1b26bf"
  }
 ],
 "metadata": {
  "kernelspec": {
   "display_name": "Python 3",
   "language": "python",
   "name": "python3"
  },
  "language_info": {
   "codemirror_mode": {
    "name": "ipython",
    "version": 2
   },
   "file_extension": ".py",
   "mimetype": "text/x-python",
   "name": "python",
   "nbconvert_exporter": "python",
   "pygments_lexer": "ipython2",
   "version": "2.7.6"
  }
 },
 "nbformat": 4,
 "nbformat_minor": 5
}
